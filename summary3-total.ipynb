{
 "cells": [
  {
   "cell_type": "code",
   "execution_count": 5,
   "metadata": {},
   "outputs": [
    {
     "data": {
      "text/plain": [
       "['./filted_basic_info\\\\T01.csv',\n",
       " './filted_basic_info\\\\T02.csv',\n",
       " './filted_basic_info\\\\T03.csv',\n",
       " './filted_basic_info\\\\T04.csv',\n",
       " './filted_basic_info\\\\T05.csv',\n",
       " './filted_basic_info\\\\T06.csv',\n",
       " './filted_basic_info\\\\T07.csv',\n",
       " './filted_basic_info\\\\T08.csv',\n",
       " './filted_basic_info\\\\T09.csv',\n",
       " './filted_basic_info\\\\T10.csv',\n",
       " './filted_basic_info\\\\T11.csv']"
      ]
     },
     "execution_count": 5,
     "metadata": {},
     "output_type": "execute_result"
    }
   ],
   "source": [
    "import joblib\n",
    "import pandas as pd\n",
    "import numpy as np\n",
    "from filereader import vib_read_raw,extract_index_dict\n",
    "import glob,os\n",
    "import json\n",
    "import math\n",
    "\n",
    "tools = glob.glob(\"./filted_basic_info/*\")\n",
    "tools"
   ]
  },
  {
   "cell_type": "code",
   "execution_count": 6,
   "metadata": {},
   "outputs": [],
   "source": [
    "with open(\"summary/cutter_properties.json\") as f:\n",
    "    ret = json.load(f)"
   ]
  },
  {
   "cell_type": "code",
   "execution_count": 7,
   "metadata": {},
   "outputs": [
    {
     "data": {
      "text/plain": [
       "{'T04': {'speed': '6000', 'feed': '2000', 'AP': '0.3', 'total': 333},\n",
       " 'T05': {'speed': '6000', 'feed': '2000', 'AP': '0.4', 'total': 75},\n",
       " 'T06': {'speed': '6000', 'feed': '2000', 'AP': '0.5', 'total': 160},\n",
       " 'T02': {'speed': '6000', 'feed': '2000', 'AP': '0.1', 'total': 9297},\n",
       " 'T01': {'speed': '6000', 'feed': '2000', 'AP': '0.3', 'total': 287},\n",
       " 'T07': {'speed': '6000', 'feed': '2000', 'AP': '0.3', 'total': 388},\n",
       " 'T08': {'speed': '6000', 'feed': '2000', 'AP': '0.2', 'total': 2280},\n",
       " 'T09': {'speed': '6000', 'feed': '2000', 'AP': '0.6', 'total': 172},\n",
       " 'T10': {'speed': '6000', 'feed': '2000', 'AP': '0.7', 'total': 73},\n",
       " 'T11': {'speed': '6000', 'feed': '2000', 'AP': '1.0', 'total': 9},\n",
       " 'T03': {'speed': '6000', 'feed': '2000', 'AP': '0.2', 'total': 989}}"
      ]
     },
     "execution_count": 7,
     "metadata": {},
     "output_type": "execute_result"
    }
   ],
   "source": [
    "ret"
   ]
  },
  {
   "cell_type": "code",
   "execution_count": 8,
   "metadata": {},
   "outputs": [
    {
     "name": "stdout",
     "output_type": "stream",
     "text": [
      "./filted_basic_info\\T01.csv\n",
      "./filted_basic_info\\T02.csv\n",
      "./filted_basic_info\\T03.csv\n",
      "./filted_basic_info\\T04.csv\n",
      "./filted_basic_info\\T05.csv\n",
      "./filted_basic_info\\T06.csv\n",
      "./filted_basic_info\\T07.csv\n",
      "./filted_basic_info\\T08.csv\n",
      "./filted_basic_info\\T09.csv\n",
      "./filted_basic_info\\T10.csv\n",
      "./filted_basic_info\\T11.csv\n"
     ]
    }
   ],
   "source": [
    "\n",
    "for tool in tools:\n",
    "    print(tool)\n",
    "    name = os.path.basename(tool)\n",
    "    name = name.split(\".\")[0]\n",
    "#     if name != \"T03\":\n",
    "#         continue\n",
    "    df = pd.read_csv(tool,index_col=0)\n",
    "    l = df.shape[0]\n",
    "    df = df.reset_index(drop=True)\n",
    "    ratio = [math.ceil(l*i) for i in [0.25,0.5,0.75,1]]\n",
    "    ret[name].update({\"valid\":l,\"mean-0\":round(df.iloc[(df.index>=2)&(df.index <12)][\"mean\"].mean(),2)})\n",
    "    \n",
    "    for i,r in enumerate(ratio):\n",
    "        ret[name].update({f\"mean-{0.25*(i+1)}\":round(df.iloc[(df.index>=r-10)&(df.index <r)][\"mean\"].mean(),2)})\n",
    "        \n",
    "    ret[name].update({\"last\":df[\"mean\"].iloc[-1]})\n",
    "    "
   ]
  },
  {
   "cell_type": "code",
   "execution_count": 9,
   "metadata": {},
   "outputs": [
    {
     "data": {
      "text/plain": [
       "681.15"
      ]
     },
     "execution_count": 9,
     "metadata": {},
     "output_type": "execute_result"
    }
   ],
   "source": [
    "df[\"mean\"].iloc[-1]"
   ]
  },
  {
   "cell_type": "code",
   "execution_count": 10,
   "metadata": {},
   "outputs": [
    {
     "data": {
      "text/html": [
       "<div>\n",
       "<style scoped>\n",
       "    .dataframe tbody tr th:only-of-type {\n",
       "        vertical-align: middle;\n",
       "    }\n",
       "\n",
       "    .dataframe tbody tr th {\n",
       "        vertical-align: top;\n",
       "    }\n",
       "\n",
       "    .dataframe thead th {\n",
       "        text-align: right;\n",
       "    }\n",
       "</style>\n",
       "<table border=\"1\" class=\"dataframe\">\n",
       "  <thead>\n",
       "    <tr style=\"text-align: right;\">\n",
       "      <th></th>\n",
       "      <th>index</th>\n",
       "      <th>length</th>\n",
       "      <th>min</th>\n",
       "      <th>max</th>\n",
       "      <th>var</th>\n",
       "      <th>mean</th>\n",
       "      <th>sum</th>\n",
       "      <th>trims</th>\n",
       "      <th>paths</th>\n",
       "      <th>mean10</th>\n",
       "    </tr>\n",
       "  </thead>\n",
       "  <tbody>\n",
       "    <tr>\n",
       "      <th>0</th>\n",
       "      <td>1</td>\n",
       "      <td>47</td>\n",
       "      <td>295.0</td>\n",
       "      <td>338.0</td>\n",
       "      <td>74.94</td>\n",
       "      <td>323.13</td>\n",
       "      <td>13401</td>\n",
       "      <td>(0.12, 0.92)</td>\n",
       "      <td>C:\\repo2021\\xyrepo\\data\\20201231\\T11\\T11_load_...</td>\n",
       "      <td>0</td>\n",
       "    </tr>\n",
       "    <tr>\n",
       "      <th>1</th>\n",
       "      <td>2</td>\n",
       "      <td>46</td>\n",
       "      <td>294.0</td>\n",
       "      <td>364.0</td>\n",
       "      <td>183.98</td>\n",
       "      <td>355.59</td>\n",
       "      <td>14609</td>\n",
       "      <td>(0.1, 0.9)</td>\n",
       "      <td>C:\\repo2021\\xyrepo\\data\\20201231\\T11\\T11_load_...</td>\n",
       "      <td>0</td>\n",
       "    </tr>\n",
       "    <tr>\n",
       "      <th>2</th>\n",
       "      <td>3</td>\n",
       "      <td>46</td>\n",
       "      <td>315.0</td>\n",
       "      <td>365.0</td>\n",
       "      <td>110.04</td>\n",
       "      <td>358.22</td>\n",
       "      <td>14730</td>\n",
       "      <td>(0.12, 0.9)</td>\n",
       "      <td>C:\\repo2021\\xyrepo\\data\\20201231\\T11\\T11_load_...</td>\n",
       "      <td>0</td>\n",
       "    </tr>\n",
       "    <tr>\n",
       "      <th>3</th>\n",
       "      <td>4</td>\n",
       "      <td>47</td>\n",
       "      <td>283.0</td>\n",
       "      <td>367.0</td>\n",
       "      <td>223.71</td>\n",
       "      <td>356.83</td>\n",
       "      <td>14985</td>\n",
       "      <td>(0.09, 0.91)</td>\n",
       "      <td>C:\\repo2021\\xyrepo\\data\\20201231\\T11\\T11_load_...</td>\n",
       "      <td>0</td>\n",
       "    </tr>\n",
       "    <tr>\n",
       "      <th>4</th>\n",
       "      <td>5</td>\n",
       "      <td>46</td>\n",
       "      <td>319.0</td>\n",
       "      <td>365.0</td>\n",
       "      <td>99.84</td>\n",
       "      <td>358.98</td>\n",
       "      <td>14765</td>\n",
       "      <td>(0.12, 0.91)</td>\n",
       "      <td>C:\\repo2021\\xyrepo\\data\\20201231\\T11\\T11_load_...</td>\n",
       "      <td>0</td>\n",
       "    </tr>\n",
       "    <tr>\n",
       "      <th>5</th>\n",
       "      <td>6</td>\n",
       "      <td>53</td>\n",
       "      <td>119.0</td>\n",
       "      <td>1306.0</td>\n",
       "      <td>179337.67</td>\n",
       "      <td>681.15</td>\n",
       "      <td>34087</td>\n",
       "      <td>(0.08, 0.81)</td>\n",
       "      <td>C:\\repo2021\\xyrepo\\data\\20201231\\T11\\T11_load_...</td>\n",
       "      <td>0</td>\n",
       "    </tr>\n",
       "  </tbody>\n",
       "</table>\n",
       "</div>"
      ],
      "text/plain": [
       "   index  length    min     max        var    mean    sum         trims  \\\n",
       "0      1      47  295.0   338.0      74.94  323.13  13401  (0.12, 0.92)   \n",
       "1      2      46  294.0   364.0     183.98  355.59  14609    (0.1, 0.9)   \n",
       "2      3      46  315.0   365.0     110.04  358.22  14730   (0.12, 0.9)   \n",
       "3      4      47  283.0   367.0     223.71  356.83  14985  (0.09, 0.91)   \n",
       "4      5      46  319.0   365.0      99.84  358.98  14765  (0.12, 0.91)   \n",
       "5      6      53  119.0  1306.0  179337.67  681.15  34087  (0.08, 0.81)   \n",
       "\n",
       "                                               paths  mean10  \n",
       "0  C:\\repo2021\\xyrepo\\data\\20201231\\T11\\T11_load_...       0  \n",
       "1  C:\\repo2021\\xyrepo\\data\\20201231\\T11\\T11_load_...       0  \n",
       "2  C:\\repo2021\\xyrepo\\data\\20201231\\T11\\T11_load_...       0  \n",
       "3  C:\\repo2021\\xyrepo\\data\\20201231\\T11\\T11_load_...       0  \n",
       "4  C:\\repo2021\\xyrepo\\data\\20201231\\T11\\T11_load_...       0  \n",
       "5  C:\\repo2021\\xyrepo\\data\\20201231\\T11\\T11_load_...       0  "
      ]
     },
     "execution_count": 10,
     "metadata": {},
     "output_type": "execute_result"
    }
   ],
   "source": [
    "df = df.reset_index(drop=True)\n",
    "df"
   ]
  },
  {
   "cell_type": "code",
   "execution_count": 11,
   "metadata": {},
   "outputs": [],
   "source": [
    "# sorted(ret.items(),key=lambda item:float(item[1][\"AP\"]))"
   ]
  },
  {
   "cell_type": "code",
   "execution_count": 12,
   "metadata": {},
   "outputs": [],
   "source": [
    "data = pd.DataFrame(ret).T"
   ]
  },
  {
   "cell_type": "code",
   "execution_count": null,
   "metadata": {},
   "outputs": [],
   "source": []
  },
  {
   "cell_type": "code",
   "execution_count": 18,
   "metadata": {},
   "outputs": [],
   "source": [
    "data.sort_values(by=[\"AP\"],inplace=True)"
   ]
  },
  {
   "cell_type": "code",
   "execution_count": 20,
   "metadata": {},
   "outputs": [],
   "source": [
    "data.to_csv(\"summary/total_info.csv\")"
   ]
  },
  {
   "cell_type": "code",
   "execution_count": 15,
   "metadata": {},
   "outputs": [
    {
     "data": {
      "text/html": [
       "<div>\n",
       "<style scoped>\n",
       "    .dataframe tbody tr th:only-of-type {\n",
       "        vertical-align: middle;\n",
       "    }\n",
       "\n",
       "    .dataframe tbody tr th {\n",
       "        vertical-align: top;\n",
       "    }\n",
       "\n",
       "    .dataframe thead th {\n",
       "        text-align: right;\n",
       "    }\n",
       "</style>\n",
       "<table border=\"1\" class=\"dataframe\">\n",
       "  <thead>\n",
       "    <tr style=\"text-align: right;\">\n",
       "      <th></th>\n",
       "      <th>speed</th>\n",
       "      <th>feed</th>\n",
       "      <th>AP</th>\n",
       "      <th>total</th>\n",
       "      <th>valid</th>\n",
       "      <th>mean-0</th>\n",
       "      <th>mean-0.25</th>\n",
       "      <th>mean-0.5</th>\n",
       "      <th>mean-0.75</th>\n",
       "      <th>mean-1.0</th>\n",
       "      <th>last</th>\n",
       "    </tr>\n",
       "  </thead>\n",
       "  <tbody>\n",
       "    <tr>\n",
       "      <th>count</th>\n",
       "      <td>11</td>\n",
       "      <td>11</td>\n",
       "      <td>11</td>\n",
       "      <td>11</td>\n",
       "      <td>11</td>\n",
       "      <td>11.00</td>\n",
       "      <td>11.00</td>\n",
       "      <td>11.00</td>\n",
       "      <td>11.00</td>\n",
       "      <td>11.00</td>\n",
       "      <td>11.00</td>\n",
       "    </tr>\n",
       "    <tr>\n",
       "      <th>unique</th>\n",
       "      <td>1</td>\n",
       "      <td>1</td>\n",
       "      <td>8</td>\n",
       "      <td>11</td>\n",
       "      <td>11</td>\n",
       "      <td>11.00</td>\n",
       "      <td>11.00</td>\n",
       "      <td>11.00</td>\n",
       "      <td>11.00</td>\n",
       "      <td>11.00</td>\n",
       "      <td>11.00</td>\n",
       "    </tr>\n",
       "    <tr>\n",
       "      <th>top</th>\n",
       "      <td>6000</td>\n",
       "      <td>2000</td>\n",
       "      <td>0.3</td>\n",
       "      <td>287</td>\n",
       "      <td>857</td>\n",
       "      <td>143.13</td>\n",
       "      <td>222.65</td>\n",
       "      <td>345.65</td>\n",
       "      <td>159.31</td>\n",
       "      <td>738.09</td>\n",
       "      <td>554.67</td>\n",
       "    </tr>\n",
       "    <tr>\n",
       "      <th>freq</th>\n",
       "      <td>11</td>\n",
       "      <td>11</td>\n",
       "      <td>3</td>\n",
       "      <td>1</td>\n",
       "      <td>1</td>\n",
       "      <td>1.00</td>\n",
       "      <td>1.00</td>\n",
       "      <td>1.00</td>\n",
       "      <td>1.00</td>\n",
       "      <td>1.00</td>\n",
       "      <td>1.00</td>\n",
       "    </tr>\n",
       "  </tbody>\n",
       "</table>\n",
       "</div>"
      ],
      "text/plain": [
       "       speed  feed   AP  total  valid  mean-0  mean-0.25  mean-0.5  mean-0.75  \\\n",
       "count     11    11   11     11     11   11.00      11.00     11.00      11.00   \n",
       "unique     1     1    8     11     11   11.00      11.00     11.00      11.00   \n",
       "top     6000  2000  0.3    287    857  143.13     222.65    345.65     159.31   \n",
       "freq      11    11    3      1      1    1.00       1.00      1.00       1.00   \n",
       "\n",
       "        mean-1.0    last  \n",
       "count      11.00   11.00  \n",
       "unique     11.00   11.00  \n",
       "top       738.09  554.67  \n",
       "freq        1.00    1.00  "
      ]
     },
     "execution_count": 15,
     "metadata": {},
     "output_type": "execute_result"
    }
   ],
   "source": [
    "data.describe()"
   ]
  },
  {
   "cell_type": "code",
   "execution_count": null,
   "metadata": {},
   "outputs": [],
   "source": []
  },
  {
   "cell_type": "code",
   "execution_count": null,
   "metadata": {},
   "outputs": [],
   "source": []
  },
  {
   "cell_type": "code",
   "execution_count": null,
   "metadata": {},
   "outputs": [],
   "source": []
  },
  {
   "cell_type": "code",
   "execution_count": null,
   "metadata": {},
   "outputs": [],
   "source": []
  },
  {
   "cell_type": "code",
   "execution_count": null,
   "metadata": {},
   "outputs": [],
   "source": []
  }
 ],
 "metadata": {
  "kernelspec": {
   "display_name": "Python 3",
   "language": "python",
   "name": "python3"
  },
  "language_info": {
   "codemirror_mode": {
    "name": "ipython",
    "version": 3
   },
   "file_extension": ".py",
   "mimetype": "text/x-python",
   "name": "python",
   "nbconvert_exporter": "python",
   "pygments_lexer": "ipython3",
   "version": "3.6.8"
  }
 },
 "nbformat": 4,
 "nbformat_minor": 4
}
